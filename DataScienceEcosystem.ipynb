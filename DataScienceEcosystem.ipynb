{
 "cells": [
  {
   "cell_type": "markdown",
   "id": "49772506-99a5-4a17-9f06-487dcc607c63",
   "metadata": {},
   "source": [
    "# : Data Science Tools and Ecosystem"
   ]
  },
  {
   "cell_type": "markdown",
   "id": "2cd9ca93-28ce-42ef-a526-c0863dd8b55a",
   "metadata": {},
   "source": [
    "## AUTHOR:WENTING LIN"
   ]
  },
  {
   "cell_type": "markdown",
   "id": "880b5f58-cf8d-46a4-a973-ad9ca7839323",
   "metadata": {},
   "source": [
    "In this notebook, Data Science Tools and Ecosystem are summarized."
   ]
  },
  {
   "cell_type": "markdown",
   "id": "9f2ec013-6fcb-4d9b-95c6-6704ea77dd51",
   "metadata": {},
   "source": [
    "Objectives:\n",
    "<ul>\n",
    "    <li>R</li>\n",
    "    <li>SQL</li>\n",
    "    <li>JAVA</li>\n",
    "</ul>  "
   ]
  },
  {
   "cell_type": "markdown",
   "id": "59bce94e-5194-4bf6-9697-a7205204d842",
   "metadata": {},
   "source": [
    "Some of the popular languages that Data Scientists use are:\n",
    "1. R\n",
    "2. Python\n",
    "3. SQL\n"
   ]
  },
  {
   "cell_type": "markdown",
   "id": "80200bff-0e6e-4e57-82f7-50a5985606c1",
   "metadata": {},
   "source": [
    "Some of the commonly used libraries used by Data Scientists include:\n",
    "1. TensorFlow.\n",
    "2. NumPy.\n",
    "3. SciPy."
   ]
  },
  {
   "cell_type": "markdown",
   "id": "3810f58d-7848-41d1-ae12-51fd1f9ee1de",
   "metadata": {},
   "source": [
    "|Data Science Tools|\n",
    "|------------------|\n",
    "|SAS|\n",
    "|Tableau|\n",
    "|Apache Spark|"
   ]
  },
  {
   "cell_type": "markdown",
   "id": "8a924895-3e5e-45d8-8436-2731b76bfd18",
   "metadata": {},
   "source": [
    "### H3: Below are a few examples of evaluating arithmetic expressions in Python"
   ]
  },
  {
   "cell_type": "markdown",
   "id": "c263212c-57da-4337-b3fa-bbbbe5b470a4",
   "metadata": {},
   "source": [
    "This a simple arithmetic expression to mutiply then add integers"
   ]
  },
  {
   "cell_type": "code",
   "execution_count": 3,
   "id": "ea538f90-eaf4-4098-8153-1b0a08b6821c",
   "metadata": {},
   "outputs": [
    {
     "name": "stdout",
     "output_type": "stream",
     "text": [
      "17\n"
     ]
    }
   ],
   "source": [
    "a= (3*4)+5\n",
    "print(a)"
   ]
  },
  {
   "cell_type": "markdown",
   "id": "c251ff0c-c5fc-43a5-bb7e-ff358462cfc4",
   "metadata": {},
   "source": [
    "This will convert 200 minutes to hours by diving by 60"
   ]
  },
  {
   "cell_type": "code",
   "execution_count": 4,
   "id": "c29398e8-74ac-4310-8284-3b904a5bf0b1",
   "metadata": {},
   "outputs": [
    {
     "name": "stdout",
     "output_type": "stream",
     "text": [
      "3.3333333333333335 hours\n"
     ]
    }
   ],
   "source": [
    "b = 200/60\n",
    "print(b, \"hours\") "
   ]
  },
  {
   "cell_type": "code",
   "execution_count": null,
   "id": "89ed698b-deac-4b7a-b09b-543cc8e2419f",
   "metadata": {},
   "outputs": [],
   "source": []
  }
 ],
 "metadata": {
  "kernelspec": {
   "display_name": "Python",
   "language": "python",
   "name": "conda-env-python-py"
  },
  "language_info": {
   "codemirror_mode": {
    "name": "ipython",
    "version": 3
   },
   "file_extension": ".py",
   "mimetype": "text/x-python",
   "name": "python",
   "nbconvert_exporter": "python",
   "pygments_lexer": "ipython3",
   "version": "3.7.12"
  }
 },
 "nbformat": 4,
 "nbformat_minor": 5
}
